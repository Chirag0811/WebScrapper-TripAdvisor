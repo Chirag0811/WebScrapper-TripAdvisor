{
 "cells": [
  {
   "cell_type": "code",
   "execution_count": 2,
   "metadata": {},
   "outputs": [
    {
     "name": "stdout",
     "output_type": "stream",
     "text": [
      "Collecting selenium\n",
      "  Downloading selenium-3.141.0-py2.py3-none-any.whl (904 kB)\n",
      "Requirement already satisfied: urllib3 in c:\\users\\chirag\\anaconda3\\lib\\site-packages (from selenium) (1.25.8)\n",
      "Installing collected packages: selenium\n",
      "Successfully installed selenium-3.141.0\n"
     ]
    }
   ],
   "source": [
    "!pip install selenium"
   ]
  },
  {
   "cell_type": "code",
   "execution_count": null,
   "metadata": {},
   "outputs": [],
   "source": [
    "from selenium import webdriver       \n",
    "import time  "
   ]
  },
  {
   "cell_type": "code",
   "execution_count": 69,
   "metadata": {},
   "outputs": [],
   "source": [
    "browser = webdriver.Chrome(\"C:\\\\Users\\\\Chirag\\\\Desktop\\\\chromedriver\")  \n",
    "browser.get('https://www.tripadvisor.in/Hotel_Review-g297586-d1879037-Reviews-Lemon_Tree_Premier_HITEC_City-Hyderabad_Hyderabad_District_Telangana.html') "
   ]
  },
  {
   "cell_type": "code",
   "execution_count": 40,
   "metadata": {},
   "outputs": [
    {
     "data": {
      "text/plain": [
       "'Lemon Tree Premier, HITEC City'"
      ]
     },
     "execution_count": 40,
     "metadata": {},
     "output_type": "execute_result"
    }
   ],
   "source": [
    "hotel_name = browser.execute_script(\"return document.getElementsByClassName('_1mTlpMC3')[0]? ( document.getElementsByClassName('_1mTlpMC3')[0].innerText):( 'cannotFind')\")"
   ]
  },
  {
   "cell_type": "code",
   "execution_count": 41,
   "metadata": {},
   "outputs": [],
   "source": [
    "location = browser.execute_script(\"return document.getElementsByClassName('_3ErVArsu jke2_wbp')[0]? ( document.getElementsByClassName('_3ErVArsu jke2_wbp')[0].innerText):( 'cannotFind')\")"
   ]
  },
  {
   "cell_type": "code",
   "execution_count": 33,
   "metadata": {},
   "outputs": [],
   "source": [
    "review_title = []\n",
    "for i in range(len(browser.execute_script(\"return document.getElementsByClassName('glasR4aX')\"))):\n",
    "    review_title.append( browser.execute_script(\"return document.getElementsByClassName('glasR4aX')[\"+str(i)+\"].innerText\"))"
   ]
  },
  {
   "cell_type": "code",
   "execution_count": 56,
   "metadata": {},
   "outputs": [],
   "source": [
    "\n",
    "review_date = []\n",
    "for i in range(len(browser.execute_script(\"return document.getElementsByClassName('ui_header_link _1r_My98y')\"))):\n",
    "    review_date.append( browser.execute_script(\"return document.getElementsByClassName('_2fxQ4TOx')[\"+str(i)+\"].innerText\").replace(browser.execute_script(\"return document.getElementsByClassName('ui_header_link _1r_My98y')[\"+str(i)+\"].innerText\"),'').replace(\" wrote a review \",\"\"))"
   ]
  },
  {
   "cell_type": "code",
   "execution_count": 28,
   "metadata": {},
   "outputs": [],
   "source": [
    "import pandas"
   ]
  },
  {
   "cell_type": "code",
   "execution_count": 58,
   "metadata": {},
   "outputs": [],
   "source": [
    "review_description = []\n",
    "for i in range(len(browser.execute_script(\"return document.getElementsByClassName('IRsGHoPm')\"))):\n",
    "    review_description.append( browser.execute_script(\"return document.getElementsByClassName('IRsGHoPm')[\"+str(i)+\"].innerText\"))"
   ]
  },
  {
   "cell_type": "code",
   "execution_count": 59,
   "metadata": {},
   "outputs": [
    {
     "data": {
      "text/plain": [
       "['We stayed twice in the hotel on our way to Vizag and back from Pune The first time, we stayed in room 921, while the second time we were allotted room no 821- both booked as business room with approximately same cost. Surprisingly, in. room 821... neither dental kit nor shaving kit or face tissues were provided in the bathroom. On Inquiring we were told, it’s on chargeable basis . Their logic is, for the top floors (from 9th onwards) it comes complimentary. I was surprised!! Won’t a guy staying in the 8th floor and below brush his teeth??? I don’t understand what sort of business they are doing!!! The bathing space is too small... you may hurt yourself if not extra cautious- it’s true for all business rooms. The food is super expensive but not worthy enough as per the taste…',\n",
       " \"Thankyou Lemon Tree Premier for awesome service.. Specially Dear Roshni ma'am, Thank you for your quick response and stay is good and food also very good & I hope next time will get good discount. Regards Y H Allurkar\",\n",
       " 'The is an excellent hotel in a very good location. The service is exceptionally good. The staff are extremely helpful and willing to make your stay comfortable and memorable (especially sattwaki). Overall a pleasant stay.',\n",
       " 'This hotel is at the heart of hitech City,very prime location,room service & food is also good, especially breakfast is tasty. I booked an event hall at 7th floor ,staff was very supporting .orbit mall is quite close ',\n",
       " 'Excellent stay and well looked after by all staff members, few names such as Manager Azhar, houskeeping Asistant Manager, Breakfast team Lipi and others. Coming back to stay soon as promised to myself whenever I will visit Hyderabad will only stay there perfect location, pampered by staff, good food, lovely property on best price, what else can you ask for😊']"
      ]
     },
     "execution_count": 59,
     "metadata": {},
     "output_type": "execute_result"
    }
   ],
   "source": [
    "review_description"
   ]
  },
  {
   "cell_type": "code",
   "execution_count": 66,
   "metadata": {},
   "outputs": [],
   "source": [
    "rating = []\n",
    "for i in range(len(browser.execute_script(\"return document.getElementsByClassName('nf9vGX55')\"))):\n",
    "    rating.append( int(browser.execute_script(\"return document.getElementsByClassName('nf9vGX55')[\"+str(i)+\"].firstElementChild.classList[1]\").replace(\"bubble_\",\"\"))/10)\n"
   ]
  },
  {
   "cell_type": "code",
   "execution_count": 83,
   "metadata": {},
   "outputs": [],
   "source": [
    "\n",
    "date_of_stay = []\n",
    "for i in range(len(browser.execute_script(\"return document.getElementsByClassName('ui_header_link _1r_My98y')\"))):\n",
    "    date_of_stay.append( browser.execute_script(\"return document.getElementsByClassName('_34Xs-BQm')[\"+str(i)+\"] ?document.getElementsByClassName('_34Xs-BQm')[\"+str(i)+\"].innerText: ''\").replace(browser.execute_script(\"return document.getElementsByClassName('_355y0nZn')[\"+str(i)+\"].innerText\"),'').replace(\" \",''))"
   ]
  },
  {
   "cell_type": "code",
   "execution_count": 80,
   "metadata": {},
   "outputs": [],
   "source": [
    "\n",
    "trip_type = []\n",
    "for i in range(len(browser.execute_script(\"return document.getElementsByClassName('ui_header_link _1r_My98y')\"))):\n",
    "    trip_type.append( browser.execute_script(\"return document.getElementsByClassName('_2bVY3aT5')[\"+str(i)+\"]?document.getElementsByClassName('_2bVY3aT5')[\"+str(i)+\"].innerText: ''\").replace(browser.execute_script(\"return document.getElementsByClassName('trip_type_label')[\"+str(i)+\"].innerText\"),'').replace('Travelled',\"\").replace('as a','').replace('on','').replace('with','').replace(\" \",''))"
   ]
  },
  {
   "cell_type": "code",
   "execution_count": 81,
   "metadata": {},
   "outputs": [
    {
     "data": {
      "text/plain": [
       "['couple', 'business', 'business', 'family', 'business']"
      ]
     },
     "execution_count": 81,
     "metadata": {},
     "output_type": "execute_result"
    }
   ],
   "source": [
    "trip_type"
   ]
  },
  {
   "cell_type": "code",
   "execution_count": 84,
   "metadata": {},
   "outputs": [
    {
     "data": {
      "text/plain": [
       "['January2021', 'January2021', 'January2021', 'January2021', 'January2021']"
      ]
     },
     "execution_count": 84,
     "metadata": {},
     "output_type": "execute_result"
    }
   ],
   "source": [
    "date_of_stay"
   ]
  },
  {
   "cell_type": "code",
   "execution_count": 85,
   "metadata": {},
   "outputs": [],
   "source": [
    "reviewer = []\n",
    "for i in range(len(browser.execute_script(\"return document.getElementsByClassName('glasR4aX')\"))):\n",
    "    reviewer.append(browser.execute_script(\"return document.getElementsByClassName('ui_header_link _1r_My98y')[\"+str(i)+\"].innerText\"))\n",
    "    \n"
   ]
  },
  {
   "cell_type": "code",
   "execution_count": 86,
   "metadata": {},
   "outputs": [
    {
     "data": {
      "text/plain": [
       "['Sourav Goswami', 'Venkat Allurkar', 'Smita', 'Nilesh R', 'Neeta R']"
      ]
     },
     "execution_count": 86,
     "metadata": {},
     "output_type": "execute_result"
    }
   ],
   "source": [
    "reviewer"
   ]
  },
  {
   "cell_type": "code",
   "execution_count": 90,
   "metadata": {},
   "outputs": [],
   "source": [
    "# 'default _3J15flPT small'\n",
    "# reviewer = []\n",
    "# for i in range(len(browser.execute_script(\"return document.getElementsByClassName('glasR4aX')\"))):\n",
    "#     reviewer.append(browser.execute_script(\"return document.getElementsByClassName('ui_header_link _1r_My98y')[\"+str(i)+\"].innerText\"))\n",
    "    \n",
    "''\n",
    "\n",
    "contribuiton = []\n",
    "for i in range(len(browser.execute_script(\"return document.getElementsByClassName('glasR4aX')\"))):\n",
    "    contribuiton.append(browser.execute_script(\"return document.getElementsByClassName('_1fk70GUn')[\"+str(i)+\"].innerText\"))\n",
    "    \n"
   ]
  },
  {
   "cell_type": "code",
   "execution_count": 91,
   "metadata": {},
   "outputs": [
    {
     "data": {
      "text/plain": [
       "['74', '7', '1', '1', '56']"
      ]
     },
     "execution_count": 91,
     "metadata": {},
     "output_type": "execute_result"
    }
   ],
   "source": []
  },
  {
   "cell_type": "code",
   "execution_count": 94,
   "metadata": {},
   "outputs": [
    {
     "data": {
      "text/plain": [
       "['74', '7', '1', '1', '56', '14', '1']"
      ]
     },
     "execution_count": 94,
     "metadata": {},
     "output_type": "execute_result"
    }
   ],
   "source": [
    "help_full_votes = []\n",
    "for i in range(len(browser.execute_script(\"return document.getElementsByClassName('_1fk70GUn')\"))):\n",
    "    help_full_votes.append(browser.execute_script(\"return document.getElementsByClassName('_1fk70GUn')[\"+str(i)+\"].innerText\"))\n",
    "help_full_votes"
   ]
  },
  {
   "cell_type": "code",
   "execution_count": null,
   "metadata": {},
   "outputs": [],
   "source": []
  }
 ],
 "metadata": {
  "kernelspec": {
   "display_name": "Python 3",
   "language": "python",
   "name": "python3"
  },
  "language_info": {
   "codemirror_mode": {
    "name": "ipython",
    "version": 3
   },
   "file_extension": ".py",
   "mimetype": "text/x-python",
   "name": "python",
   "nbconvert_exporter": "python",
   "pygments_lexer": "ipython3",
   "version": "3.7.6"
  }
 },
 "nbformat": 4,
 "nbformat_minor": 4
}
